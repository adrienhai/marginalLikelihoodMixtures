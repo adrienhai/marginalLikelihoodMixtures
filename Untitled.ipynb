{
 "cells": [
  {
   "cell_type": "code",
   "execution_count": 2,
   "id": "a3f13a09",
   "metadata": {},
   "outputs": [
    {
     "name": "stdout",
     "output_type": "stream",
     "text": [
      "The autoreload extension is already loaded. To reload it, use:\n",
      "  %reload_ext autoreload\n"
     ]
    }
   ],
   "source": [
    "%load_ext autoreload\n",
    "%autoreload 2\n",
    "\n",
    "from bayesmixture import bayesmixture as bmix\n",
    "\n",
    "import numpy as np\n",
    "import pandas as pd\n",
    "from time import sleep\n",
    "import sys\n",
    "import seaborn as sns"
   ]
  },
  {
   "cell_type": "markdown",
   "id": "b8adf40c",
   "metadata": {},
   "source": [
    "# Import galaxies data"
   ]
  },
  {
   "cell_type": "code",
   "execution_count": 3,
   "id": "00499970",
   "metadata": {},
   "outputs": [],
   "source": [
    "galaxies=np.genfromtxt('galaxies.txt')\n",
    "galaxies=galaxies/1000\n"
   ]
  },
  {
   "cell_type": "markdown",
   "id": "14f87c51",
   "metadata": {},
   "source": [
    "#### Create the mixture models objects"
   ]
  },
  {
   "cell_type": "markdown",
   "id": "d0108491",
   "metadata": {},
   "source": [
    "Create mixture models with a normal-inverse gamma prior and hyperparameters as described in the article for $K=5$"
   ]
  },
  {
   "cell_type": "code",
   "execution_count": 4,
   "id": "3170ab69",
   "metadata": {},
   "outputs": [],
   "source": [
    "gal=bmix.mixnorm1d(np.transpose(np.array([galaxies])),k=5)"
   ]
  },
  {
   "cell_type": "code",
   "execution_count": null,
   "id": "c1383a74",
   "metadata": {},
   "outputs": [],
   "source": [
    "methodsK3={'Chib':'chibEstimatorV2','ChibPerm':'chibEstimatorV2','BridgeSampling':'BridgeSampling',\n",
    "           'adaptiveSMC':'adaptiveSMC','SIS':'SISv2','ChibPartition':'chibEstimatorPartitions',\n",
    "           'arithmeticMean':'arithmeticMean'}\n",
    "hyperParametersK3={}\n",
    "hyperParametersK3['Chib']={'numIterGibbs':10,'burnIn':1,'permutationChib':False}\n",
    "hyperParametersK3['ChibPerm']={'numIterGibbs':10,'burnIn':1,'permutationChib':True}\n",
    "hyperParametersK3['BridgeSampling']={'numIterGibbs':10, 'burnIn':1, 'M0':2}\n",
    "hyperParametersK3['adaptiveSMC']={'numParticles':10,'numGibbsStep':10,'ESSThreshold':0.8,'maxIterBissection':100}\n",
    "hyperParametersK3['SIS']={'numSim':10}\n",
    "hyperParametersK3['ChibPartition']={'numIterGibbs':10,'burnIn':1,}\n",
    "hyperParametersK3['arithmeticMean']={'numSim':10}"
   ]
  },
  {
   "cell_type": "code",
   "execution_count": 7,
   "id": "b191b656",
   "metadata": {},
   "outputs": [],
   "source": [
    "def func(x, y):\n",
    "    return np.sin(y * x)\n",
    "\n",
    "xaxis = np.linspace(0, 4, 10)\n",
    "yaxis = np.linspace(-1, 1, 20)\n",
    "result = func(xaxis[:,None], yaxis[None,:])"
   ]
  },
  {
   "cell_type": "code",
   "execution_count": 8,
   "id": "404d9c69",
   "metadata": {},
   "outputs": [
    {
     "data": {
      "text/plain": [
       "array([[-0.        , -0.        , -0.        , -0.        , -0.        ,\n",
       "        -0.        , -0.        , -0.        , -0.        , -0.        ,\n",
       "         0.        ,  0.        ,  0.        ,  0.        ,  0.        ,\n",
       "         0.        ,  0.        ,  0.        ,  0.        ,  0.        ],\n",
       "       [-0.42995636, -0.38726275, -0.34372169, -0.29942845, -0.25447998,\n",
       "        -0.20897462, -0.16301197, -0.11669259, -0.07011786, -0.02338968,\n",
       "         0.02338968,  0.07011786,  0.11669259,  0.16301197,  0.20897462,\n",
       "         0.25447998,  0.29942845,  0.34372169,  0.38726275,  0.42995636],\n",
       "       [-0.77637192, -0.71408881, -0.64555852, -0.57138061, -0.492204  ,\n",
       "        -0.40872137, -0.32166307, -0.23179071, -0.13989055, -0.04676656,\n",
       "         0.04676656,  0.13989055,  0.23179071,  0.32166307,  0.40872137,\n",
       "         0.492204  ,  0.57138061,  0.64555852,  0.71408881,  0.77637192],\n",
       "       [-0.9719379 , -0.9294733 , -0.86872962, -0.79090146, -0.69751938,\n",
       "        -0.59041986, -0.4717091 , -0.34372169, -0.20897462, -0.07011786,\n",
       "         0.07011786,  0.20897462,  0.34372169,  0.4717091 ,  0.59041986,\n",
       "         0.69751938,  0.79090146,  0.86872962,  0.9294733 ,  0.9719379 ],\n",
       "       [-0.9786557 , -0.99980306, -0.98604004, -0.93784722, -0.85690736,\n",
       "        -0.74604665, -0.60913605, -0.4509561 , -0.27703001, -0.09343078,\n",
       "         0.09343078,  0.27703001,  0.4509561 ,  0.60913605,  0.74604665,\n",
       "         0.85690736,  0.93784722,  0.98604004,  0.99980306,  0.9786557 ],\n",
       "       [-0.79522006, -0.91410234, -0.9831947 , -0.99873379, -0.9598732 ,\n",
       "        -0.86872962, -0.73026751, -0.55202873, -0.34372169, -0.11669259,\n",
       "         0.11669259,  0.34372169,  0.55202873,  0.73026751,  0.86872962,\n",
       "         0.9598732 ,  0.99873379,  0.9831947 ,  0.91410234,  0.79522006],\n",
       "       [-0.45727263, -0.6857457 , -0.86054034, -0.96797406, -0.99963723,\n",
       "        -0.95305133, -0.83186299, -0.64555852, -0.40872137, -0.13989055,\n",
       "         0.13989055,  0.40872137,  0.64555852,  0.83186299,  0.95305133,\n",
       "         0.99963723,  0.96797406,  0.86054034,  0.6857457 ,  0.45727263],\n",
       "       [-0.03047682, -0.35037076, -0.63302322, -0.84839063, -0.97358123,\n",
       "        -0.99528832, -0.91120462, -0.73026751, -0.4717091 , -0.16301197,\n",
       "         0.16301197,  0.4717091 ,  0.73026751,  0.91120462,  0.99528832,\n",
       "         0.97358123,  0.84839063,  0.63302322,  0.35037076,  0.03047682],\n",
       "       [ 0.40224065,  0.03968347, -0.32836787, -0.65095676, -0.88342083,\n",
       "        -0.9935755 , -0.96616987, -0.80499825, -0.5323748 , -0.18604419,\n",
       "         0.18604419,  0.5323748 ,  0.80499825,  0.96616987,  0.9935755 ,\n",
       "         0.88342083,  0.65095676,  0.32836787, -0.03968347, -0.40224065],\n",
       "       [ 0.7568025 ,  0.42354465,  0.01630136, -0.39378948, -0.73509255,\n",
       "        -0.9479885 , -0.99528832, -0.86872962, -0.59041986, -0.20897462,\n",
       "         0.20897462,  0.59041986,  0.86872962,  0.99528832,  0.9479885 ,\n",
       "         0.73509255,  0.39378948, -0.01630136, -0.42354465, -0.7568025 ]])"
      ]
     },
     "execution_count": 8,
     "metadata": {},
     "output_type": "execute_result"
    }
   ],
   "source": [
    "result"
   ]
  },
  {
   "cell_type": "code",
   "execution_count": null,
   "id": "9f053326",
   "metadata": {},
   "outputs": [],
   "source": []
  }
 ],
 "metadata": {
  "kernelspec": {
   "display_name": "Python 3 (ipykernel)",
   "language": "python",
   "name": "python3"
  },
  "language_info": {
   "codemirror_mode": {
    "name": "ipython",
    "version": 3
   },
   "file_extension": ".py",
   "mimetype": "text/x-python",
   "name": "python",
   "nbconvert_exporter": "python",
   "pygments_lexer": "ipython3",
   "version": "3.8.5"
  }
 },
 "nbformat": 4,
 "nbformat_minor": 5
}
