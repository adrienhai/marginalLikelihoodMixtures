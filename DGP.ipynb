{
 "cells": [
  {
   "cell_type": "code",
   "execution_count": 10,
   "id": "0ded7d0f",
   "metadata": {},
   "outputs": [
    {
     "name": "stdout",
     "output_type": "stream",
     "text": [
      "The autoreload extension is already loaded. To reload it, use:\n",
      "  %reload_ext autoreload\n"
     ]
    }
   ],
   "source": [
    "%load_ext autoreload\n",
    "%autoreload 2\n",
    "\n",
    "from bayesmixture import bayesmixture as bmix\n",
    "from bayesmixture import bayesDPmixture as bDPmix\n",
    "\n",
    "\n",
    "import numpy as np\n",
    "import pandas as pd\n",
    "from time import sleep\n",
    "import sys\n",
    "import seaborn as sns\n",
    "import scipy.stats as ss\n",
    "import matplotlib.pyplot as plt"
   ]
  },
  {
   "cell_type": "markdown",
   "id": "86f4d499",
   "metadata": {},
   "source": [
    "# Data generating processes"
   ]
  },
  {
   "cell_type": "markdown",
   "id": "b67a89d4",
   "metadata": {},
   "source": [
    "## Figure 3 and Figure 6"
   ]
  },
  {
   "cell_type": "markdown",
   "id": "af498e42",
   "metadata": {},
   "source": [
    "Below are given the DGPs for generating the datasets used in Figures 3 and 6"
   ]
  },
  {
   "cell_type": "markdown",
   "id": "b56b1477",
   "metadata": {},
   "source": [
    "### 6 component mixture, n=1000"
   ]
  },
  {
   "cell_type": "code",
   "execution_count": 14,
   "id": "212029fa",
   "metadata": {},
   "outputs": [],
   "source": [
    "np.random.seed(2)\n",
    "n=1000\n",
    "data=np.zeros(n)\n",
    "k=6\n",
    "pi=ss.dirichlet.rvs(np.ones(k))[0]\n",
    "mu=ss.norm.rvs(loc=0,scale=5,size=k)\n",
    "for i in range(n):\n",
    "    z=np.random.choice(k,p=pi)\n",
    "    data[i]=ss.norm.rvs(size=1,loc=mu[z],scale=2)\n"
   ]
  },
  {
   "cell_type": "code",
   "execution_count": 15,
   "id": "8b53efbf",
   "metadata": {},
   "outputs": [
    {
     "data": {
      "text/plain": [
       "(array([ 15., 125., 265.,  98., 175., 164.,  29.,  58.,  61.,  10.]),\n",
       " array([-12.27338968,  -9.29382572,  -6.31426175,  -3.33469778,\n",
       "         -0.35513382,   2.62443015,   5.60399412,   8.58355809,\n",
       "         11.56312205,  14.54268602,  17.52224999]),\n",
       " <BarContainer object of 10 artists>)"
      ]
     },
     "execution_count": 15,
     "metadata": {},
     "output_type": "execute_result"
    },
    {
     "data": {
      "image/png": "[encoded data removed]",
      "text/plain": [
       "<Figure size 432x288 with 1 Axes>"
      ]
     },
     "metadata": {
      "needs_background": "light"
     },
     "output_type": "display_data"
    }
   ],
   "source": [
    "plt.hist(data)"
   ]
  },
  {
   "cell_type": "markdown",
   "id": "f6f32d27",
   "metadata": {},
   "source": [
    "### 6 component mixture, n=2000"
   ]
  },
  {
   "cell_type": "code",
   "execution_count": 16,
   "id": "c38b1764",
   "metadata": {},
   "outputs": [],
   "source": [
    "np.random.seed(2)\n",
    "n=2000\n",
    "data=np.zeros(n)\n",
    "k=6\n",
    "pi=ss.dirichlet.rvs(np.ones(k))[0]\n",
    "mu=ss.norm.rvs(loc=0,scale=5,size=k)\n",
    "for i in range(n):\n",
    "    z=np.random.choice(k,p=pi)\n",
    "    data[i]=ss.norm.rvs(size=1,loc=mu[z],scale=2)### 6 component mixture, n=1000"
   ]
  },
  {
   "cell_type": "code",
   "execution_count": 17,
   "id": "025d2383",
   "metadata": {},
   "outputs": [
    {
     "data": {
      "text/plain": [
       "(array([ 24., 258., 541., 219., 335., 311.,  64., 123., 110.,  15.]),\n",
       " array([-12.27338968,  -9.29382572,  -6.31426175,  -3.33469778,\n",
       "         -0.35513382,   2.62443015,   5.60399412,   8.58355809,\n",
       "         11.56312205,  14.54268602,  17.52224999]),\n",
       " <BarContainer object of 10 artists>)"
      ]
     },
     "execution_count": 17,
     "metadata": {},
     "output_type": "execute_result"
    },
    {
     "data": {
      "image/png": "[encoded data removed]",
      "text/plain": [
       "<Figure size 432x288 with 1 Axes>"
      ]
     },
     "metadata": {
      "needs_background": "light"
     },
     "output_type": "display_data"
    }
   ],
   "source": [
    "plt.hist(data)"
   ]
  },
  {
   "cell_type": "markdown",
   "id": "661db4e0",
   "metadata": {},
   "source": [
    "## Figure 7"
   ]
  },
  {
   "cell_type": "markdown",
   "id": "d24c0354",
   "metadata": {},
   "source": [
    "We give below the DGP for generating the mixtures $P_0$ given in Figure 7"
   ]
  },
  {
   "cell_type": "markdown",
   "id": "3c640a46",
   "metadata": {},
   "source": [
    "### 1 component mixture"
   ]
  },
  {
   "cell_type": "code",
   "execution_count": 20,
   "id": "e37e60b6",
   "metadata": {},
   "outputs": [],
   "source": [
    "n=2000\n",
    "np.random.seed()\n",
    "data=np.zeros(n)\n",
    "data=ss.norm.rvs(size=n,loc=0,scale=2)"
   ]
  },
  {
   "cell_type": "code",
   "execution_count": 21,
   "id": "7b1e38ff",
   "metadata": {},
   "outputs": [
    {
     "data": {
      "text/plain": [
       "(array([  5.,  29., 117., 273., 488., 513., 349., 168.,  45.,  13.]),\n",
       " array([-6.95791682, -5.60781525, -4.25771368, -2.90761211, -1.55751054,\n",
       "        -0.20740897,  1.1426926 ,  2.49279417,  3.84289574,  5.19299731,\n",
       "         6.54309888]),\n",
       " <BarContainer object of 10 artists>)"
      ]
     },
     "execution_count": 21,
     "metadata": {},
     "output_type": "execute_result"
    },
    {
     "data": {
      "image/png": "[encoded data removed]",
      "text/plain": [
       "<Figure size 432x288 with 1 Axes>"
      ]
     },
     "metadata": {
      "needs_background": "light"
     },
     "output_type": "display_data"
    }
   ],
   "source": [
    "plt.hist(data)"
   ]
  },
  {
   "cell_type": "markdown",
   "id": "de3d8e80",
   "metadata": {},
   "source": [
    "### 3 component-mixture"
   ]
  },
  {
   "cell_type": "code",
   "execution_count": 22,
   "id": "4cdfbc4c",
   "metadata": {},
   "outputs": [],
   "source": [
    "np.random.seed()\n",
    "n=2000\n",
    "k=3\n",
    "data=np.zeros(n)\n",
    "pi=np.array([0.3,0.2,0.5])\n",
    "mu=np.array([-3,4,12])\n",
    "for i in range(n):\n",
    "    z=np.random.choice(k,p=pi)\n",
    "    data[i]=ss.norm.rvs(size=1,loc=mu[z],scale=1)"
   ]
  },
  {
   "cell_type": "code",
   "execution_count": 23,
   "id": "2bac1cd2",
   "metadata": {},
   "outputs": [
    {
     "data": {
      "text/plain": [
       "(array([102., 414.,  91.,  21., 262., 124.,   1., 114., 701., 170.]),\n",
       " array([-6.17173623, -4.04673001, -1.9217238 ,  0.20328242,  2.32828864,\n",
       "         4.45329485,  6.57830107,  8.70330728, 10.8283135 , 12.95331972,\n",
       "        15.07832593]),\n",
       " <BarContainer object of 10 artists>)"
      ]
     },
     "execution_count": 23,
     "metadata": {},
     "output_type": "execute_result"
    },
    {
     "data": {
      "image/png": "[encoded data removed]",
      "text/plain": [
       "<Figure size 432x288 with 1 Axes>"
      ]
     },
     "metadata": {
      "needs_background": "light"
     },
     "output_type": "display_data"
    }
   ],
   "source": [
    "plt.hist(data)"
   ]
  },
  {
   "cell_type": "code",
   "execution_count": null,
   "id": "3fe9ced9",
   "metadata": {},
   "outputs": [],
   "source": []
  }
 ],
 "metadata": {
  "kernelspec": {
   "display_name": "Python 3 (ipykernel)",
   "language": "python",
   "name": "python3"
  },
  "language_info": {
   "codemirror_mode": {
    "name": "ipython",
    "version": 3
   },
   "file_extension": ".py",
   "mimetype": "text/x-python",
   "name": "python",
   "nbconvert_exporter": "python",
   "pygments_lexer": "ipython3",
   "version": "3.8.5"
  }
 },
 "nbformat": 4,
 "nbformat_minor": 5
}
