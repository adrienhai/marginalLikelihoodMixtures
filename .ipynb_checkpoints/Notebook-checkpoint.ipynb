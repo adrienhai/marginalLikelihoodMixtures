{
 "cells": [
  {
   "cell_type": "code",
   "execution_count": 1,
   "metadata": {},
   "outputs": [],
   "source": [
    "import autoreload\n",
    "%load_ext autoreload\n",
    "%autoreload 2\n",
    "\n",
    "from bayesmixture import bayesmixture as bmix\n",
    "from bayesmixture import bayesDPmixture as bDPmix\n",
    "\n",
    "import numpy as np"
   ]
  },
  {
   "cell_type": "markdown",
   "metadata": {},
   "source": [
    "## Import galaxies data"
   ]
  },
  {
   "cell_type": "code",
   "execution_count": 2,
   "metadata": {},
   "outputs": [],
   "source": [
    "galaxies=np.genfromtxt('galaxies.txt')\n",
    "galaxies=galaxies/1000\n"
   ]
  },
  {
   "cell_type": "markdown",
   "metadata": {},
   "source": [
    "#### Create the mixture models objects"
   ]
  },
  {
   "cell_type": "markdown",
   "metadata": {},
   "source": [
    "Create mixture models with a normal-inverse gamma prior and hyperparameters as described in the article for $K=3,5,6$ and $8$"
   ]
  },
  {
   "cell_type": "code",
   "execution_count": 3,
   "metadata": {},
   "outputs": [],
   "source": [
    "galK3=bmix.mixnorm1d(np.transpose(np.array([galaxies])),k=3)\n",
    "galK5=bmix.mixnorm1d(np.transpose(np.array([galaxies])),k=5)\n",
    "galK6=bmix.mixnorm1d(np.transpose(np.array([galaxies])),k=6)\n",
    "galK8=bmix.mixnorm1d(np.transpose(np.array([galaxies])),k=8)"
   ]
  },
  {
   "cell_type": "markdown",
   "metadata": {},
   "source": [
    "## Figure 1"
   ]
  },
  {
   "cell_type": "markdown",
   "metadata": {},
   "source": [
    "Figure 1 shows the boxplots for the 20 repetitions of marginal likelihood estimators for all the values of $K$ considered."
   ]
  },
  {
   "cell_type": "code",
   "execution_count": 4,
   "metadata": {},
   "outputs": [
    {
     "name": "stdout",
     "output_type": "stream",
     "text": [
      "-238.5214292558874\n",
      "-234.80995322817373\n",
      "-225.41538771754628\n",
      "llk uncertainty sd 0.24472035112736892\n",
      "var -451.8138819261489\n",
      "(-226.8018869117407, 0.24472035112736892)\n",
      "-254.03108923979954 896.0487654320985\n",
      "-254.03108923979954\n",
      "-240.78476858825894\n"
     ]
    }
   ],
   "source": [
    "methodsK3={'Chib':'chibEstimatorV2','ChibPerm':'chibEstimatorV2','BridgeSampling':'BridgeSampling',\n",
    "           'adaptiveSMC':'adaptiveSMC','SIS':'SIS','ChibPartition':'chibEstimatorPartitions',\n",
    "           'arithmeticMean':'arithmeticMean'}\n",
    "hyperParametersK3={}\n",
    "hyperParametersK3['Chib']={'numIterGibbs':100,'burnIn':10,'permutationChib':False}\n",
    "hyperParametersK3['ChibPerm']={'numIterGibbs':100,'burnIn':10,'permutationChib':True}\n",
    "#hyperParametersK3['BridgeSampling']={'numIterGibbs':100, 'burnIn':10, 'M0':20}\n",
    "hyperParametersK3['adaptiveSMC']={'numParticles':100,'numGibbsStep':10,'ESSThreshold':0.8,'maxIterBissection':1000}\n",
    "hyperParametersK3['SIS']={'numSim':100}\n",
    "hyperParametersK3['ChibPartition']={'numIterGibbs':100,'burnIn':10,}\n",
    "hyperParametersK3['arithmeticMean']={'numSim':100}\n",
    "\n",
    "for method in hyperParametersK3.keys():\n",
    "    func = getattr(galK3, methodsK3[method])\n",
    "    print(func(**hyperParametersK3[method]))\n",
    "\n",
    "    "
   ]
  },
  {
   "cell_type": "code",
   "execution_count": 44,
   "metadata": {},
   "outputs": [],
   "source": [
    "f=getattr(galK3,'arithmeticMean')"
   ]
  },
  {
   "cell_type": "code",
   "execution_count": 45,
   "metadata": {},
   "outputs": [
    {
     "data": {
      "text/plain": [
       "-237.07260032459922"
      ]
     },
     "execution_count": 45,
     "metadata": {},
     "output_type": "execute_result"
    }
   ],
   "source": [
    "f(100)"
   ]
  },
  {
   "cell_type": "code",
   "execution_count": 31,
   "metadata": {},
   "outputs": [],
   "source": [
    "h={'numIterGibbs':100,'burnIn':10,'permutationChib':False}\n",
    "hyperParametersK3['Chib']=h"
   ]
  },
  {
   "cell_type": "code",
   "execution_count": 32,
   "metadata": {},
   "outputs": [
    {
     "data": {
      "text/plain": [
       "{'Chib': {'numIterGibbs': 100, 'burnIn': 10, 'permutationChib': False}}"
      ]
     },
     "execution_count": 32,
     "metadata": {},
     "output_type": "execute_result"
    }
   ],
   "source": [
    "hyperParametersK3"
   ]
  },
  {
   "cell_type": "code",
   "execution_count": 38,
   "metadata": {},
   "outputs": [
    {
     "data": {
      "text/plain": [
       "-228.47263361353572"
      ]
     },
     "execution_count": 38,
     "metadata": {},
     "output_type": "execute_result"
    }
   ],
   "source": [
    "galK3.chibEstimatorV2(**hyperParametersK3['Chib'])"
   ]
  },
  {
   "cell_type": "code",
   "execution_count": null,
   "metadata": {},
   "outputs": [],
   "source": []
  }
 ],
 "metadata": {
  "kernelspec": {
   "display_name": "Python 3",
   "language": "python",
   "name": "python3"
  },
  "language_info": {
   "codemirror_mode": {
    "name": "ipython",
    "version": 3
   },
   "file_extension": ".py",
   "mimetype": "text/x-python",
   "name": "python",
   "nbconvert_exporter": "python",
   "pygments_lexer": "ipython3",
   "version": "3.8.5"
  }
 },
 "nbformat": 4,
 "nbformat_minor": 4
}
